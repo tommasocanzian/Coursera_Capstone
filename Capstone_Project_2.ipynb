{
 "cells": [
  {
   "cell_type": "markdown",
   "metadata": {},
   "source": [
    "## I Business Problem"
   ]
  },
  {
   "cell_type": "markdown",
   "metadata": {},
   "source": [
    "Clearly define a problem or an idea of your choice, where you would need to leverage the Foursquare location data to solve or execute. Remember that data science problems always target an audience and are meant to help a group of stakeholders solve a problem, so make sure that you explicitly describe your audience and why they would care about your problem."
   ]
  },
  {
   "cell_type": "markdown",
   "metadata": {},
   "source": [
    "##### Suppose that a multinational company that operates in the film industry would like to open a new cinema in Toronto, and it takes you in charge to offer them the best solution to which strategically is the best spot where to build the new cinema, considering the surrounding areas after a detailed analysis. "
   ]
  },
  {
   "cell_type": "markdown",
   "metadata": {},
   "source": [
    "## II Data Presentation"
   ]
  },
  {
   "cell_type": "markdown",
   "metadata": {},
   "source": [
    "Describe the data that you will be using to solve the problem or execute your idea. Remember that you will need to use the Foursquare location data to solve the problem or execute your idea. You can absolutely use other datasets in combination with the Foursquare location data. So make sure that you provide adequate explanation and discussion, with examples, of the data that you will be using, even if it is only Foursquare location data."
   ]
  },
  {
   "cell_type": "markdown",
   "metadata": {},
   "source": [
    "#### I will use the data related to the neighborhoods of Toronto, and I will enrich them with more specific details about what I can find in the venues of the different areas in order to have a more complete overview. In this task Foursquare will play a vital role because it will ensure a precise and fast survey of the activities/shops around and will allow an efficient comparison of the different areas.\n",
    "\n",
    "Toronto's list of neighborhoods postal code: http://cocl.us/Geospatial_data"
   ]
  },
  {
   "cell_type": "markdown",
   "metadata": {},
   "source": [
    "## III Methodology"
   ]
  },
  {
   "cell_type": "markdown",
   "metadata": {},
   "source": [
    "Methodology section which represents the main component of the report where you discuss and describe any exploratory data analysis that you did, any inferential statistical testing that you performed, if any, and what machine learnings were used and why."
   ]
  },
  {
   "cell_type": "markdown",
   "metadata": {},
   "source": [
    "#### In this project I am going to compare different areas around Toronto, trying to identify the optimal choice considering different parameters such as:"
   ]
  },
  {
   "cell_type": "markdown",
   "metadata": {},
   "source": [
    "* parking availability "
   ]
  },
  {
   "cell_type": "markdown",
   "metadata": {},
   "source": [
    "* presence of restaurant in the nearby"
   ]
  },
  {
   "cell_type": "markdown",
   "metadata": {},
   "source": [
    "#### Therefore using a K-nn algorithm I will be able to identify different clusters across the city and visualizing them select the optimal one, where I can find opportuities in terms of unanswered demands from the residents and synergies with existing activities/shops "
   ]
  },
  {
   "cell_type": "markdown",
   "metadata": {},
   "source": [
    "## IV Results"
   ]
  },
  {
   "cell_type": "markdown",
   "metadata": {},
   "source": [
    "Results section where you discuss the results."
   ]
  },
  {
   "cell_type": "markdown",
   "metadata": {},
   "source": [
    "#### As you can notice the best area where build a cinema is that one described by Cluster 4 where due to the proximity to the stadium we have parking availability and of course the presence of dining restaurants that can play an important role, attracting people. Moreover there is not a cinema competitor in the nearby resulting therefore in a full potential client base."
   ]
  },
  {
   "cell_type": "markdown",
   "metadata": {},
   "source": [
    "## V Discussions"
   ]
  },
  {
   "cell_type": "markdown",
   "metadata": {},
   "source": [
    "Discussion section where you discuss any observations you noted and any recommendations you can make based on the results."
   ]
  },
  {
   "cell_type": "markdown",
   "metadata": {},
   "source": [
    "#### At first glance without any data analytics none could have done a similar projection or business plan because the amount of data to be processed would be too burdensome, but after a geospatial analysis we can come up with a solution that can be proposed to our client."
   ]
  },
  {
   "cell_type": "markdown",
   "metadata": {},
   "source": [
    "## VI Conclusions"
   ]
  },
  {
   "cell_type": "markdown",
   "metadata": {},
   "source": [
    "Conclusion section where you conclude the report."
   ]
  },
  {
   "cell_type": "markdown",
   "metadata": {},
   "source": [
    "#### Data Science and Machine Learning can be very powerful tools in the hands of the firms because they definetely help in the decision making and can direct the management to efficient and effective decisions. I think that a data driven approach af doing business is the only way to compete nawadays where the amount of data is huge and we have several ways to gather, process and mine useful insights from them."
   ]
  },
  {
   "cell_type": "code",
   "execution_count": null,
   "metadata": {},
   "outputs": [],
   "source": []
  }
 ],
 "metadata": {
  "kernelspec": {
   "display_name": "Python 3",
   "language": "python",
   "name": "python3"
  },
  "language_info": {
   "codemirror_mode": {
    "name": "ipython",
    "version": 3
   },
   "file_extension": ".py",
   "mimetype": "text/x-python",
   "name": "python",
   "nbconvert_exporter": "python",
   "pygments_lexer": "ipython3",
   "version": "3.7.4"
  }
 },
 "nbformat": 4,
 "nbformat_minor": 2
}
