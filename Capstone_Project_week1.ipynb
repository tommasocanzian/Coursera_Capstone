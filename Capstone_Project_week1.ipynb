{
 "cells": [
  {
   "cell_type": "markdown",
   "metadata": {},
   "source": [
    "## Business Problem"
   ]
  },
  {
   "cell_type": "markdown",
   "metadata": {},
   "source": [
    "I have to move to Toronto for work reasons and therefore I need to find a place where to live, given that I am a Data scientist consultant a can work from home with no problems, but I have specific needs that I would like to accomplish in my home search:"
   ]
  },
  {
   "cell_type": "markdown",
   "metadata": {},
   "source": [
    "* parking near home because I have an automobile"
   ]
  },
  {
   "cell_type": "markdown",
   "metadata": {},
   "source": [
    "* restaurants in the nearby because I don't like cooking"
   ]
  },
  {
   "cell_type": "markdown",
   "metadata": {},
   "source": [
    "* presence of a convenience store in case of necessity"
   ]
  },
  {
   "cell_type": "markdown",
   "metadata": {},
   "source": [
    "## Data Presentation"
   ]
  },
  {
   "cell_type": "markdown",
   "metadata": {},
   "source": [
    "I will use the data related to the neighborhoods of Toronto, and I will enrich them with more specific details about what I can find in the venues of the different areas in order to have a more complete overview. In this task Foursquare will have a vital role"
   ]
  }
 ],
 "metadata": {
  "kernelspec": {
   "display_name": "Python 3",
   "language": "python",
   "name": "python3"
  },
  "language_info": {
   "codemirror_mode": {
    "name": "ipython",
    "version": 3
   },
   "file_extension": ".py",
   "mimetype": "text/x-python",
   "name": "python",
   "nbconvert_exporter": "python",
   "pygments_lexer": "ipython3",
   "version": "3.7.4"
  }
 },
 "nbformat": 4,
 "nbformat_minor": 2
}
